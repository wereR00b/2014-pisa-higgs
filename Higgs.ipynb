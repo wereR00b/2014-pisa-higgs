{
 "metadata": {
  "name": "",
  "signature": "sha256:4bf0e72f83c9c06642658d8babdbdff20e052217ef402b9b56eb403130da9895"
 },
 "nbformat": 3,
 "nbformat_minor": 0,
 "worksheets": [
  {
   "cells": [
    {
     "cell_type": "markdown",
     "metadata": {},
     "source": [
      "Importing things"
     ]
    },
    {
     "cell_type": "code",
     "collapsed": false,
     "input": [
      "%matplotlib inline"
     ],
     "language": "python",
     "metadata": {},
     "outputs": [],
     "prompt_number": 1
    },
    {
     "cell_type": "code",
     "collapsed": false,
     "input": [
      "import numpy as np\n",
      "from matplotlib import pyplot as plt"
     ],
     "language": "python",
     "metadata": {},
     "outputs": [],
     "prompt_number": 5
    },
    {
     "cell_type": "markdown",
     "metadata": {},
     "source": [
      "Load the data with \"dtype=None\" to load it as strings (not all of them are numbers)."
     ]
    },
    {
     "cell_type": "code",
     "collapsed": false,
     "input": [
      "csv = np.genfromtxt(\"data/subtraining.csv\", delimiter=\",\", dtype=None)"
     ],
     "language": "python",
     "metadata": {},
     "outputs": [],
     "prompt_number": 8
    },
    {
     "cell_type": "code",
     "collapsed": false,
     "input": [
      "print csv"
     ],
     "language": "python",
     "metadata": {},
     "outputs": [
      {
       "output_type": "stream",
       "stream": "stdout",
       "text": [
        "[['EventId' 'DER_mass_MMC' 'DER_mass_transverse_met_lep' ...,\n",
        "  'PRI_jet_all_pt' 'Weight' 'Label']\n",
        " ['329331' '-999.0' '95.828' ..., '0.0' '4.27704409469' 'b']\n",
        " ['216562' '136.58' '14.124' ..., '-0.0' '0.018636116672' 's']\n",
        " ..., \n",
        " ['305892' '121.728' '26.464' ..., '166.913' '0.0713571365583' 'b']\n",
        " ['343618' '-999.0' '93.184' ..., '152.125' '0.74405624723' 'b']\n",
        " ['214522' '86.086' '23.816' ..., '206.055' '0.0834140312717' 'b']]\n"
       ]
      }
     ],
     "prompt_number": 9
    },
    {
     "cell_type": "markdown",
     "metadata": {},
     "source": [
      "It seems the first line is a header, the first column is an event ID and can be ignored.\n",
      "We decide to also ignore the two last columns (a probability for the simulation, and the label).\n",
      "There are actually two types of events: 'b' for background event, and 's' for signal events."
     ]
    },
    {
     "cell_type": "markdown",
     "metadata": {},
     "source": [
      "The loaded csv data were in string formats, for the actual \"data\" features, we force it to be interpreted as 'float' (real number)."
     ]
    },
    {
     "cell_type": "code",
     "collapsed": false,
     "input": [
      "head = csv[0,:]\n",
      "data = np.array(csv[1:,1:-2], dtype=float) # col 1 is an ID, last are weight and label\n",
      "labels = csv[1:,-1]"
     ],
     "language": "python",
     "metadata": {},
     "outputs": []
    },
    {
     "cell_type": "code",
     "collapsed": false,
     "input": [
      "print head.shape\n",
      "print labels.shape\n",
      "print data.shape"
     ],
     "language": "python",
     "metadata": {},
     "outputs": []
    },
    {
     "cell_type": "code",
     "collapsed": false,
     "input": [
      "print \"Missing values: \",(data == -999).sum()\n",
      "print \"Rows with missing values: \", (data == -999).any(axis=1).sum()\n",
      "print \"Rows without missing values: \", (data != -999).all(axis=1).sum()"
     ],
     "language": "python",
     "metadata": {},
     "outputs": []
    },
    {
     "cell_type": "code",
     "collapsed": false,
     "input": [
      "indicesOfCleanRows = (data != -999).any(axis=1)\n",
      "onlyclean = data[ indicesOfCleanRows, :]\n",
      "onlycleanlabels = labels[ indicesOfCleanRows ]\n",
      "print onlycleanlabels.shape\n",
      "print onlyclean.shape"
     ],
     "language": "python",
     "metadata": {},
     "outputs": []
    },
    {
     "cell_type": "markdown",
     "metadata": {},
     "source": [
      "TODO: I'm not sure of my cleaning code, I should check that it works..."
     ]
    },
    {
     "cell_type": "code",
     "collapsed": false,
     "input": [
      "mu = onlyclean.mean(0)\n",
      "mu.shape"
     ],
     "language": "python",
     "metadata": {},
     "outputs": []
    },
    {
     "cell_type": "code",
     "collapsed": false,
     "input": [
      "std = (onlyclean - mu).std(0)\n",
      "std.shape"
     ],
     "language": "python",
     "metadata": {},
     "outputs": []
    },
    {
     "cell_type": "code",
     "collapsed": false,
     "input": [
      "cov = np.matrix(onlyclean - mu)/std\n",
      "cov = cov.T * cov\n",
      "cov.shape"
     ],
     "language": "python",
     "metadata": {},
     "outputs": []
    },
    {
     "cell_type": "code",
     "collapsed": false,
     "input": [
      "plt.imshow(cov, interpolation='nearest')"
     ],
     "language": "python",
     "metadata": {},
     "outputs": []
    },
    {
     "cell_type": "markdown",
     "metadata": {},
     "source": [
      "We extract the eigenvectors and eigenvalues (we print the eigenvalues, we'll only use the vectors)"
     ]
    },
    {
     "cell_type": "code",
     "collapsed": false,
     "input": [
      "eigenValues,v = np.linalg.eig(cov)\n",
      "print eigenValues"
     ],
     "language": "python",
     "metadata": {},
     "outputs": []
    },
    {
     "cell_type": "markdown",
     "metadata": {},
     "source": [
      "Extract and plot the first 4 eigenvectors."
     ]
    },
    {
     "cell_type": "code",
     "collapsed": false,
     "input": [
      "firstVs = v[:,0:4]\n",
      "plt.imshow(firstVs, interpolation='nearest')\n",
      "firstVs.shape"
     ],
     "language": "python",
     "metadata": {},
     "outputs": []
    },
    {
     "cell_type": "code",
     "collapsed": false,
     "input": [
      "proj = ((onlyclean-mu)/std) * firstVs\n",
      "proj.shape"
     ],
     "language": "python",
     "metadata": {},
     "outputs": []
    },
    {
     "cell_type": "code",
     "collapsed": false,
     "input": [
      "s = proj[onlycleanlabels == 's'] #signal\n",
      "b = proj[onlycleanlabels == 'b'] #background\n",
      "plt.scatter(s[:,0], s[:,1], c='r', marker='o')\n",
      "plt.scatter(b[:,0], b[:,1], c='g', marker='o', alpha=.3)\n",
      "plt.show()\n"
     ],
     "language": "python",
     "metadata": {},
     "outputs": []
    },
    {
     "cell_type": "markdown",
     "metadata": {},
     "source": [
      "Make a plotting function. Plot both red over white and white over red."
     ]
    },
    {
     "cell_type": "code",
     "collapsed": false,
     "input": [
      "def draw(d1, d2, sub1, sub2):\n",
      "    print \"Plotting principal component\",d1,\"versus principal component\", d2\n",
      "    fig,(p1,p2) = plt.subplots(nrows=2)\n",
      "    p1.scatter(sub1[:,d1], sub1[:,d2], c='r')\n",
      "    p1.scatter(sub2[:,d1], sub2[:,d2], c='g', alpha=.5)\n",
      "    p2.scatter(sub2[:,d1], sub2[:,d2], c='g')\n",
      "    p2.scatter(sub1[:,d1], sub1[:,d2], c='r', alpha=.5)\n",
      "    plt.show()"
     ],
     "language": "python",
     "metadata": {},
     "outputs": []
    },
    {
     "cell_type": "code",
     "collapsed": false,
     "input": [
      "s = proj[onlycleanlabels == 's'] #signal\n",
      "b = proj[onlycleanlabels == 'b'] #background\n",
      "draw(0,1, s,b)\n",
      "draw(2,3, s,b)\n",
      "draw(0,2, s,b)\n",
      "draw(1,3, s,b)"
     ],
     "language": "python",
     "metadata": {},
     "outputs": []
    }
   ],
   "metadata": {}
  }
 ]
}